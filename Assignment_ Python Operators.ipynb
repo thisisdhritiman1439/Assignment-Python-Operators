{
 "cells": [
  {
   "cell_type": "code",
   "execution_count": 4,
   "id": "b76868d9-1990-4ec6-9849-2939b26d1d47",
   "metadata": {},
   "outputs": [
    {
     "name": "stdin",
     "output_type": "stream",
     "text": [
      "Enter The First Number:  12\n",
      "Enter The Second Number:  6\n"
     ]
    },
    {
     "name": "stdout",
     "output_type": "stream",
     "text": [
      "The Sum of The Two Numbers is:  18.0\n",
      "The Difference of The Two Numbers is:  6.0\n",
      "The Product of The Two Numbers is:  72.0\n",
      "The Quotient of The Two Numbers is:  2.0\n"
     ]
    }
   ],
   "source": [
    "# Calculate the sum, difference, product, and quotient of two numbers.\n",
    "num1=float(input(\"Enter The First Number: \"))\n",
    "num2=float(input(\"Enter The Second Number: \"))\n",
    "\n",
    "print(\"The Sum of The Two Numbers is: \",num1+num2)\n",
    "print(\"The Difference of The Two Numbers is: \",num1-num2)\n",
    "print(\"The Product of The Two Numbers is: \",num1*num2)\n",
    "print(\"The Quotient of The Two Numbers is: \",num1/num2)"
   ]
  },
  {
   "cell_type": "code",
   "execution_count": 12,
   "id": "34efc972-bb1a-487e-abea-ea136b41e119",
   "metadata": {},
   "outputs": [
    {
     "name": "stdout",
     "output_type": "stream",
     "text": [
      "After addition assignment, x is: 15\n",
      "After subtraction assignment, x is: 12\n",
      "After multiplication assignment, x is: 24\n",
      "After division assignment, x is: 6.0\n",
      "After Square Assignment, x is: 36.0\n",
      "After modulus assignment, x is: 0.0\n",
      "After exponentiation assignment, x is: 0.0\n",
      "After floor division assignment, x is: 0.0\n"
     ]
    }
   ],
   "source": [
    "# Perform various assignment operations on a variable\n",
    "x = 10\n",
    "\n",
    "# Addition assignment\n",
    "x += 5 \n",
    "print(\"After addition assignment, x is:\", x)\n",
    "\n",
    "# Subtraction assignment\n",
    "x -= 3 \n",
    "print(\"After subtraction assignment, x is:\", x)\n",
    "\n",
    "# Multiplication assignment\n",
    "x *= 2  \n",
    "print(\"After multiplication assignment, x is:\", x)\n",
    "\n",
    "# Division assignment\n",
    "x /= 4  \n",
    "print(\"After division assignment, x is:\", x)\n",
    "\n",
    "# Square Assignment\n",
    "print(\"After Square Assignment, x is:\",x*x)\n",
    "\n",
    "# Modulus assignment\n",
    "x %= 3 \n",
    "print(\"After modulus assignment, x is:\", x)\n",
    "\n",
    "# Exponentiation assignment\n",
    "x **= 2  \n",
    "print(\"After exponentiation assignment, x is:\", x)\n",
    "\n",
    "# Floor division assignment\n",
    "x //= 2  \n",
    "print(\"After floor division assignment, x is:\", x)"
   ]
  },
  {
   "cell_type": "code",
   "execution_count": 16,
   "id": "a7cdf22f-ebf6-4da2-a600-a3fd0de89af2",
   "metadata": {},
   "outputs": [
    {
     "name": "stdin",
     "output_type": "stream",
     "text": [
      "Enter the First Number:  35\n",
      "Enter the Second Number:  13\n"
     ]
    },
    {
     "name": "stdout",
     "output_type": "stream",
     "text": [
      "The First Number 35 is Greater than the Second number 13 !!\n"
     ]
    }
   ],
   "source": [
    "# Compare two numbers and print the results.\n",
    "num1=int(input(\"Enter the First Number: \"))\n",
    "num2=int(input(\"Enter the Second Number: \"))\n",
    "\n",
    "if num1>num2:\n",
    "    print(f\"The First Number {num1} is Greater than the Second number {num2} !!\")\n",
    "else:\n",
    "    print(f\"The Second Number {num2} is Greater than the First Number {num1} !!\")"
   ]
  },
  {
   "cell_type": "code",
   "execution_count": 19,
   "id": "12229df3-57f8-42d7-bfa7-1d0dbd8ddd26",
   "metadata": {},
   "outputs": [
    {
     "name": "stdin",
     "output_type": "stream",
     "text": [
      "Enter a number:  27\n"
     ]
    },
    {
     "name": "stdout",
     "output_type": "stream",
     "text": [
      "27 is a positive odd number\n"
     ]
    }
   ],
   "source": [
    "#Check conditions using logical operators\n",
    "num = int(input(\"Enter a Number: \"))\n",
    "\n",
    "if num > 0 and num % 2 == 0:\n",
    "    print(f\"{num} is a Positive Even Number\")\n",
    "elif num > 0 and num % 2 != 0:\n",
    "    print(f\"{num} is a Positive Odd Number\")\n",
    "elif num < 0:\n",
    "    print(f\"{num} is a Negative Number\")\n",
    "else:\n",
    "    print(f\"{num} is Zero\")\n"
   ]
  },
  {
   "cell_type": "code",
   "execution_count": 21,
   "id": "4cfdb302-8991-4729-a023-e6b8dd62fe9e",
   "metadata": {},
   "outputs": [
    {
     "name": "stdin",
     "output_type": "stream",
     "text": [
      "Enter number1:  25\n",
      "Enter number2:  12\n"
     ]
    },
    {
     "name": "stdout",
     "output_type": "stream",
     "text": [
      "The Value of x and y is not same\n"
     ]
    }
   ],
   "source": [
    "# Check the identity of variables.\n",
    "x=int(input(\"Enter number1: \"))\n",
    "y=int(input(\"Enter number2: \"))\n",
    "\n",
    "if x is y:\n",
    "    print(\"The Value of x and y is same\")\n",
    "elif x is not y:\n",
    "    print(\"The Value of x and y is not same\")\n",
    "    "
   ]
  },
  {
   "cell_type": "code",
   "execution_count": 22,
   "id": "cdbccf82-1570-4d85-b486-f77d5ddcc0c4",
   "metadata": {},
   "outputs": [
    {
     "name": "stdin",
     "output_type": "stream",
     "text": [
      "Enter The First Integer:  12\n",
      "Enter The Second Integer:  21\n"
     ]
    },
    {
     "name": "stdout",
     "output_type": "stream",
     "text": [
      "Bitwise AND: 4\n",
      "Bitwise OR: 29\n",
      "Bitwise XOR: 25\n",
      "Bitwise NOT of num1: -13\n",
      "Bitwise NOT of num2: -22\n"
     ]
    }
   ],
   "source": [
    "# Perform bitwise operations on any two integers.\n",
    "num1 = int(input(\"Enter The First Integer: \"))\n",
    "num2 = int(input(\"Enter The Second Integer: \"))\n",
    "\n",
    "print(\"Bitwise AND:\", num1 & num2)\n",
    "print(\"Bitwise OR:\", num1 | num2)\n",
    "print(\"Bitwise XOR:\", num1 ^ num2)\n",
    "print(\"Bitwise NOT of num1:\", ~num1)\n",
    "print(\"Bitwise NOT of num2:\", ~num2)\n"
   ]
  },
  {
   "cell_type": "code",
   "execution_count": 25,
   "id": "c58d9fe4-994d-4895-8fbd-7fe384dda744",
   "metadata": {},
   "outputs": [
    {
     "name": "stdin",
     "output_type": "stream",
     "text": [
      "Enter a Number:  21\n"
     ]
    },
    {
     "name": "stdout",
     "output_type": "stream",
     "text": [
      "Negative number: -21\n",
      "Positive number: 21\n"
     ]
    }
   ],
   "source": [
    "# Use unary operators to change the sign of a number.\n",
    "num = int(input(\"Enter a Number: \"))\n",
    "\n",
    "negative_number = -num\n",
    "print(\"Negative number:\", negative_number) \n",
    "positive_number = +num\n",
    "print(\"Positive number:\", positive_number) \n"
   ]
  },
  {
   "cell_type": "code",
   "execution_count": 26,
   "id": "2072a884-3d11-42b0-bdef-1672402a4620",
   "metadata": {},
   "outputs": [
    {
     "name": "stdin",
     "output_type": "stream",
     "text": [
      "Enter number1:  21\n",
      "Enter number2:  10\n"
     ]
    },
    {
     "name": "stdout",
     "output_type": "stream",
     "text": [
      "The greater number is: 21\n"
     ]
    }
   ],
   "source": [
    "# Use the ternary operator to assign values based on conditions.\n",
    "num1=int(input(\"Enter number1: \"))\n",
    "num2=int(input(\"Enter number2: \"))\n",
    "\n",
    "greater_number = num1 if num1 > num2 else num2\n",
    "print(\"The greater number is:\", greater_number)\n"
   ]
  }
 ],
 "metadata": {
  "kernelspec": {
   "display_name": "Python 3 (ipykernel)",
   "language": "python",
   "name": "python3"
  },
  "language_info": {
   "codemirror_mode": {
    "name": "ipython",
    "version": 3
   },
   "file_extension": ".py",
   "mimetype": "text/x-python",
   "name": "python",
   "nbconvert_exporter": "python",
   "pygments_lexer": "ipython3",
   "version": "3.10.12"
  }
 },
 "nbformat": 4,
 "nbformat_minor": 5
}
